{
 "cells": [
  {
   "cell_type": "code",
   "execution_count": 1,
   "metadata": {},
   "outputs": [],
   "source": [
    "import os\n",
    "import math\n",
    "import gzip\n",
    "import pickle\n",
    "from random import gauss\n",
    "from itertools import product\n",
    "from time import sleep\n",
    "from datetime import datetime, timedelta, date\n",
    "from urllib import request\n",
    "import numpy as np\n",
    "import pandas as pd\n",
    "import matplotlib.pyplot as plt\n",
    "\n",
    "from tqdm.notebook import tqdm\n",
    "\n",
    "%matplotlib inline"
   ]
  },
  {
   "cell_type": "code",
   "execution_count": 2,
   "metadata": {},
   "outputs": [],
   "source": [
    "def plot_cv(df, train_idx, test_idx, i, n=5, figsize=(10, 7)):\n",
    "    plt.figure(figsize=figsize)\n",
    "    plt.subplot(n, 1, i)\n",
    "    plt.axis([\n",
    "        df.index.min(),\n",
    "        df.index.max(),\n",
    "        df.cl.min() * 0.99,\n",
    "        df.cl.max() * 1.01\n",
    "    ])\n",
    "    plt.plot(df.iloc[train_idx].cl,\n",
    "             ls='',\n",
    "             marker='o',\n",
    "             markersize=1,\n",
    "             label='train')\n",
    "    plt.plot(df.iloc[test_idx].cl,\n",
    "             ls='',\n",
    "             marker='o',\n",
    "             markersize=1,\n",
    "             label='test')\n",
    "    plt.tight_layout()\n",
    "    plt.legend()"
   ]
  },
  {
   "cell_type": "markdown",
   "metadata": {},
   "source": [
    "***データ準備***"
   ]
  },
  {
   "cell_type": "code",
   "execution_count": 3,
   "metadata": {},
   "outputs": [
    {
     "ename": "FileNotFoundError",
     "evalue": "[Errno 2] No such file or directory: './bybit_BTCUSD_2022_2_3.pkl'",
     "output_type": "error",
     "traceback": [
      "\u001b[1;31m---------------------------------------------------------------------------\u001b[0m",
      "\u001b[1;31mFileNotFoundError\u001b[0m                         Traceback (most recent call last)",
      "Cell \u001b[1;32mIn [3], line 4\u001b[0m\n\u001b[0;32m      1\u001b[0m \u001b[38;5;66;03m# pickleデータの読み込み\u001b[39;00m\n\u001b[0;32m      2\u001b[0m \u001b[38;5;66;03m# こちらのpickleファイルはDay04フォルダ以下に配置されているものです.\u001b[39;00m\n\u001b[0;32m      3\u001b[0m \u001b[38;5;66;03m# Day03で使用したデータと同じものを使用しています．\u001b[39;00m\n\u001b[1;32m----> 4\u001b[0m \u001b[38;5;28;01mwith\u001b[39;00m \u001b[38;5;28;43mopen\u001b[39;49m\u001b[43m(\u001b[49m\u001b[38;5;124;43m\"\u001b[39;49m\u001b[38;5;124;43m./bybit_BTCUSD_2022_2_3.pkl\u001b[39;49m\u001b[38;5;124;43m\"\u001b[39;49m\u001b[43m,\u001b[49m\u001b[43m \u001b[49m\u001b[43mmode\u001b[49m\u001b[38;5;241;43m=\u001b[39;49m\u001b[38;5;124;43m\"\u001b[39;49m\u001b[38;5;124;43mrb\u001b[39;49m\u001b[38;5;124;43m\"\u001b[39;49m\u001b[43m)\u001b[49m \u001b[38;5;28;01mas\u001b[39;00m f:\n\u001b[0;32m      5\u001b[0m     df \u001b[38;5;241m=\u001b[39m pickle\u001b[38;5;241m.\u001b[39mload(f)\n\u001b[0;32m      7\u001b[0m \u001b[38;5;66;03m# bybit約定履歴にはunixタイムスタンプとして時刻情報が記録されているため,これを日付に変換している.\u001b[39;00m\n\u001b[0;32m      8\u001b[0m \u001b[38;5;66;03m# unixタイムスタンプとは1970年1月1日午前00:00:00(UTC)からの経過秒数を表す.\u001b[39;00m\n",
      "\u001b[1;31mFileNotFoundError\u001b[0m: [Errno 2] No such file or directory: './bybit_BTCUSD_2022_2_3.pkl'"
     ]
    }
   ],
   "source": [
    "# pickleデータの読み込み\n",
    "# こちらのpickleファイルはDay04フォルダ以下に配置されているものです.\n",
    "# Day03で使用したデータと同じものを使用しています．\n",
    "with open(\"./bybit_BTCUSD_2022_3.pkl\", mode=\"rb\") as f:\n",
    "    df = pickle.load(f)\n",
    "\n",
    "# bybit約定履歴にはunixタイムスタンプとして時刻情報が記録されているため,これを日付に変換している.\n",
    "# unixタイムスタンプとは1970年1月1日午前00:00:00(UTC)からの経過秒数を表す.\n",
    "df[\"timestamp\"] = pd.to_datetime(df[\"timestamp\"], unit=\"s\")\n",
    "df.set_index(\"timestamp\", inplace=True)\n",
    "df.head()"
   ]
  },
  {
   "cell_type": "code",
   "execution_count": null,
   "metadata": {},
   "outputs": [],
   "source": []
  }
 ],
 "metadata": {
  "kernelspec": {
   "display_name": "Python 3.10.7 64-bit (microsoft store)",
   "language": "python",
   "name": "python3"
  },
  "language_info": {
   "codemirror_mode": {
    "name": "ipython",
    "version": 3
   },
   "file_extension": ".py",
   "mimetype": "text/x-python",
   "name": "python",
   "nbconvert_exporter": "python",
   "pygments_lexer": "ipython3",
   "version": "3.10.7"
  },
  "orig_nbformat": 4,
  "vscode": {
   "interpreter": {
    "hash": "8dd4c1bbea936f30cb17f7d968b3a7be23d8106fb74f540a4bc6b75ca162dc08"
   }
  }
 },
 "nbformat": 4,
 "nbformat_minor": 2
}
